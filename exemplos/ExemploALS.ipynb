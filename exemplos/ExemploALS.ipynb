{
 "cells": [
  {
   "cell_type": "markdown",
   "metadata": {
    "colab_type": "text",
    "id": "FVpx2BEIkTLF"
   },
   "source": [
    "## Ao longo da execucao, documente o codigo com comentarios, referentes ao seu entendimento. Utilize tambem a estrutura de markdown do Jupyter para colocar informacoes textuais relevantes."
   ]
  },
  {
   "cell_type": "code",
   "execution_count": 1,
   "metadata": {
    "colab": {},
    "colab_type": "code",
    "id": "eAoKVS7GkTLF"
   },
   "outputs": [],
   "source": [
    "from __future__ import print_function\n",
    "\n",
    "import sys\n",
    "if sys.version >= '3':\n",
    "    long = int\n",
    "\n",
    "from pyspark.sql import SparkSession\n",
    "\n",
    "from pyspark.ml.evaluation import RegressionEvaluator\n",
    "from pyspark.ml.recommendation import ALS\n",
    "from pyspark.sql import Row"
   ]
  },
  {
   "cell_type": "code",
   "execution_count": 2,
   "metadata": {
    "colab": {},
    "colab_type": "code",
    "id": "fEBRZB-ekTLL"
   },
   "outputs": [],
   "source": [
    "spark = SparkSession\\\n",
    "        .builder\\\n",
    "        .appName(\"ALSExample\")\\\n",
    "        .config(\"spark.mongodb.read.connection.uri\", \"mongodb://172.19.0.2:27017/puc.recomendacoes\") \\\n",
    "        .config(\"spark.mongodb.write.connection.uri\", \"mongodb://172.19.0.2:27017/puc.recomendacoes\") \\\n",
    "        .config('spark.jars.packages',\"org.mongodb.spark:mongo-spark-connector_2.12:10.3.0\")\\\n",
    "        .getOrCreate()"
   ]
  },
  {
   "cell_type": "code",
   "execution_count": 3,
   "metadata": {
    "colab": {},
    "colab_type": "code",
    "id": "kp_1wXm-kTLN"
   },
   "outputs": [],
   "source": [
    "lines = spark.read.text(\"sample_movielens_ratings.txt\").rdd\n",
    "parts = lines.map(lambda row: row.value.split(\"::\"))\n",
    "ratingsRDD = parts.map(lambda p: Row(userId=int(p[0]), movieId=int(p[1]),\n",
    "                                     rating=float(p[2]), timestamp=long(p[3])))\n",
    "ratings = spark.createDataFrame(ratingsRDD.collect())"
   ]
  },
  {
   "cell_type": "code",
   "execution_count": 4,
   "metadata": {
    "colab": {},
    "colab_type": "code",
    "id": "B30cITY0kTLP",
    "outputId": "b3a7bc53-76a9-4b0e-bbe8-1a2412f6a3b1"
   },
   "outputs": [
    {
     "name": "stdout",
     "output_type": "stream",
     "text": [
      "+------+-------+------+----------+\n",
      "|userId|movieId|rating| timestamp|\n",
      "+------+-------+------+----------+\n",
      "|     0|      2|   3.0|1424380312|\n",
      "|     0|      3|   1.0|1424380312|\n",
      "|     0|      5|   2.0|1424380312|\n",
      "|     0|      9|   4.0|1424380312|\n",
      "|     0|     11|   1.0|1424380312|\n",
      "|     0|     12|   2.0|1424380312|\n",
      "|     0|     15|   1.0|1424380312|\n",
      "|     0|     17|   1.0|1424380312|\n",
      "|     0|     19|   1.0|1424380312|\n",
      "|     0|     21|   1.0|1424380312|\n",
      "|     0|     23|   1.0|1424380312|\n",
      "|     0|     26|   3.0|1424380312|\n",
      "|     0|     27|   1.0|1424380312|\n",
      "|     0|     28|   1.0|1424380312|\n",
      "|     0|     29|   1.0|1424380312|\n",
      "|     0|     30|   1.0|1424380312|\n",
      "|     0|     31|   1.0|1424380312|\n",
      "|     0|     34|   1.0|1424380312|\n",
      "|     0|     37|   1.0|1424380312|\n",
      "|     0|     41|   2.0|1424380312|\n",
      "+------+-------+------+----------+\n",
      "only showing top 20 rows\n",
      "\n"
     ]
    }
   ],
   "source": [
    "ratings.show()"
   ]
  },
  {
   "cell_type": "code",
   "execution_count": 5,
   "metadata": {
    "colab": {},
    "colab_type": "code",
    "id": "I2FXKxYqkTLT"
   },
   "outputs": [],
   "source": [
    "(training, test) = ratings.randomSplit([0.8, 0.2])"
   ]
  },
  {
   "cell_type": "code",
   "execution_count": 6,
   "metadata": {
    "colab": {},
    "colab_type": "code",
    "id": "lYqspBFnkTLV"
   },
   "outputs": [],
   "source": [
    "als = ALS(maxIter=5, regParam=0.01, userCol=\"userId\", itemCol=\"movieId\", ratingCol=\"rating\",\n",
    "              coldStartStrategy=\"drop\")\n",
    "model = als.fit(training)"
   ]
  },
  {
   "cell_type": "code",
   "execution_count": 7,
   "metadata": {
    "colab": {},
    "colab_type": "code",
    "id": "R0G9gdIpkTLY",
    "outputId": "e4422ebf-ae5f-4f2d-d07c-3179c0679067"
   },
   "outputs": [
    {
     "name": "stdout",
     "output_type": "stream",
     "text": [
      "Root-mean-square error = 1.9321096909368045\n"
     ]
    }
   ],
   "source": [
    "predictions = model.transform(test)\n",
    "evaluator = RegressionEvaluator(metricName=\"rmse\", labelCol=\"rating\",\n",
    "                                    predictionCol=\"prediction\")\n",
    "rmse = evaluator.evaluate(predictions)\n",
    "print(\"Root-mean-square error = \" + str(rmse))"
   ]
  },
  {
   "cell_type": "code",
   "execution_count": 8,
   "metadata": {
    "colab": {},
    "colab_type": "code",
    "id": "CK6901ewkTLd"
   },
   "outputs": [],
   "source": [
    "userRecs = model.recommendForAllUsers(10)"
   ]
  },
  {
   "cell_type": "code",
   "execution_count": 9,
   "metadata": {
    "colab": {},
    "colab_type": "code",
    "id": "wCTs9ZxvkTLg",
    "outputId": "7bb025fe-f39d-464a-bf42-87372a5c4c4d"
   },
   "outputs": [
    {
     "name": "stdout",
     "output_type": "stream",
     "text": [
      "+------+--------------------------------------------------------------------------------------------------------------------------------------------------------------------------+\n",
      "|userId|recommendations                                                                                                                                                           |\n",
      "+------+--------------------------------------------------------------------------------------------------------------------------------------------------------------------------+\n",
      "|20    |[{51, 4.7503405}, {38, 3.8885486}, {94, 3.8497345}, {75, 3.8363097}, {77, 3.6053252}, {98, 3.1625428}, {90, 3.0880547}, {63, 2.9872339}, {88, 2.9836533}, {31, 2.95345}]  |\n",
      "|10    |[{2, 3.9842355}, {92, 3.8487735}, {47, 3.5541136}, {34, 3.3940427}, {25, 3.355951}, {32, 3.0925984}, {71, 2.927309}, {0, 2.8021085}, {89, 2.8007543}, {42, 2.731646}]     |\n",
      "|0     |[{92, 3.810485}, {9, 3.4796143}, {32, 3.0601728}, {62, 2.8598676}, {49, 2.5119925}, {2, 2.4657516}, {22, 2.41645}, {26, 2.3036244}, {89, 2.2415233}, {28, 2.1898465}]     |\n",
      "|1     |[{62, 4.123439}, {32, 3.4632227}, {51, 3.4531276}, {22, 3.25246}, {30, 3.1326904}, {85, 2.8716264}, {9, 2.8596952}, {47, 2.7666495}, {28, 2.761294}, {77, 2.7540596}]     |\n",
      "|21    |[{93, 5.2723284}, {29, 5.0157256}, {53, 4.6870313}, {74, 3.8917108}, {70, 3.5673985}, {87, 3.5100074}, {96, 3.1773984}, {41, 3.089113}, {58, 3.0785525}, {59, 3.0448797}] |\n",
      "|11    |[{2, 6.4519553}, {52, 5.981809}, {32, 5.153083}, {79, 5.1019073}, {18, 5.094221}, {48, 4.9054055}, {30, 4.7630935}, {58, 4.605144}, {92, 4.1314917}, {13, 4.0598984}]     |\n",
      "|12    |[{90, 6.128367}, {25, 5.985236}, {27, 5.0762997}, {85, 5.043099}, {64, 4.9652395}, {35, 4.7618136}, {55, 4.7058325}, {46, 4.5273786}, {68, 4.432652}, {20, 4.4117613}]    |\n",
      "|22    |[{51, 5.4619584}, {30, 4.923941}, {74, 4.892729}, {75, 4.8314757}, {88, 4.6174827}, {23, 4.436395}, {69, 4.3055153}, {22, 4.248853}, {68, 4.2399216}, {32, 3.9831817}]    |\n",
      "|2     |[{83, 5.089104}, {8, 4.9460425}, {37, 4.8661127}, {89, 4.340045}, {92, 4.139151}, {34, 3.9971051}, {19, 3.7725246}, {40, 3.7585113}, {81, 3.3473487}, {55, 3.1961796}]    |\n",
      "|13    |[{93, 3.9729555}, {29, 3.1756008}, {58, 3.1513507}, {53, 3.1200354}, {74, 2.7335703}, {89, 2.5401142}, {18, 2.5378048}, {81, 2.4161375}, {88, 2.4076939}, {41, 2.3800247}]|\n",
      "+------+--------------------------------------------------------------------------------------------------------------------------------------------------------------------------+\n",
      "only showing top 10 rows\n",
      "\n"
     ]
    }
   ],
   "source": [
    "userRecs.show(10, False)"
   ]
  },
  {
   "cell_type": "code",
   "execution_count": 10,
   "metadata": {
    "colab": {},
    "colab_type": "code",
    "id": "2X8U3KVlkTLj"
   },
   "outputs": [],
   "source": [
    "movieRecs = model.recommendForAllItems(10)"
   ]
  },
  {
   "cell_type": "code",
   "execution_count": 11,
   "metadata": {
    "colab": {},
    "colab_type": "code",
    "id": "yLRB8PGWkTLl",
    "outputId": "15dd0b0f-f5f0-4e19-dc2e-e1ec378c5c12"
   },
   "outputs": [
    {
     "name": "stdout",
     "output_type": "stream",
     "text": [
      "+-------+--------------------+\n",
      "|movieId|     recommendations|\n",
      "+-------+--------------------+\n",
      "|     20|[{17, 4.5293865},...|\n",
      "|     40|[{2, 3.7585113}, ...|\n",
      "|     10|[{23, 3.7467911},...|\n",
      "|     50|[{23, 4.0729065},...|\n",
      "|     80|[{23, 4.1024942},...|\n",
      "|     70|[{21, 3.5673985},...|\n",
      "|     60|[{21, 3.021291}, ...|\n",
      "|     90|[{12, 6.128367}, ...|\n",
      "|     30|[{22, 4.923941}, ...|\n",
      "|      0|[{28, 2.899958}, ...|\n",
      "|     31|[{12, 3.4700475},...|\n",
      "|     81|[{28, 4.7540236},...|\n",
      "|     91|[{28, 3.7061825},...|\n",
      "|      1|[{15, 3.8608859},...|\n",
      "|     41|[{24, 5.153804}, ...|\n",
      "|     61|[{25, 3.8745818},...|\n",
      "|     51|[{22, 5.4619584},...|\n",
      "|     21|[{22, 3.3067005},...|\n",
      "|     11|[{18, 3.976976}, ...|\n",
      "|     71|[{25, 3.8979485},...|\n",
      "+-------+--------------------+\n",
      "only showing top 20 rows\n",
      "\n"
     ]
    }
   ],
   "source": [
    "movieRecs.show()"
   ]
  },
  {
   "cell_type": "code",
   "execution_count": 12,
   "metadata": {
    "colab": {},
    "colab_type": "code",
    "id": "Wd3s2x5ykTLo"
   },
   "outputs": [],
   "source": [
    "users = ratings.select(als.getUserCol()).distinct()"
   ]
  },
  {
   "cell_type": "code",
   "execution_count": 13,
   "metadata": {
    "colab": {},
    "colab_type": "code",
    "id": "SKLGzVCKkTLq",
    "outputId": "b2033d98-df25-4270-c7f8-b9ba8369d621"
   },
   "outputs": [
    {
     "name": "stdout",
     "output_type": "stream",
     "text": [
      "+------+\n",
      "|userId|\n",
      "+------+\n",
      "|     0|\n",
      "|     1|\n",
      "|     3|\n",
      "|     2|\n",
      "|     7|\n",
      "|     6|\n",
      "|     5|\n",
      "|     4|\n",
      "|     9|\n",
      "|    10|\n",
      "|     8|\n",
      "|    11|\n",
      "|    12|\n",
      "|    13|\n",
      "|    14|\n",
      "|    17|\n",
      "|    18|\n",
      "|    15|\n",
      "|    16|\n",
      "|    19|\n",
      "+------+\n",
      "only showing top 20 rows\n",
      "\n"
     ]
    }
   ],
   "source": [
    "users.show()"
   ]
  },
  {
   "cell_type": "code",
   "execution_count": 14,
   "metadata": {
    "colab": {},
    "colab_type": "code",
    "id": "XdApRan_kTL-"
   },
   "outputs": [],
   "source": [
    "userRecsOnlyItemId = userRecs.select(userRecs['userId'], userRecs['recommendations']['movieId'])"
   ]
  },
  {
   "cell_type": "code",
   "execution_count": 15,
   "metadata": {
    "colab": {},
    "colab_type": "code",
    "id": "Hya5S3kekTMB",
    "outputId": "8dd21ba2-238f-4582-81f3-919519f998c9"
   },
   "outputs": [
    {
     "name": "stdout",
     "output_type": "stream",
     "text": [
      "+------+----------------------------------------+\n",
      "|userId|recommendations.movieId                 |\n",
      "+------+----------------------------------------+\n",
      "|20    |[51, 38, 94, 75, 77, 98, 90, 63, 88, 31]|\n",
      "|10    |[2, 92, 47, 34, 25, 32, 71, 0, 89, 42]  |\n",
      "|0     |[92, 9, 32, 62, 49, 2, 22, 26, 89, 28]  |\n",
      "|1     |[62, 32, 51, 22, 30, 85, 9, 47, 28, 77] |\n",
      "|21    |[93, 29, 53, 74, 70, 87, 96, 41, 58, 59]|\n",
      "|11    |[2, 52, 32, 79, 18, 48, 30, 58, 92, 13] |\n",
      "|12    |[90, 25, 27, 85, 64, 35, 55, 46, 68, 20]|\n",
      "|22    |[51, 30, 74, 75, 88, 23, 69, 22, 68, 32]|\n",
      "|2     |[83, 8, 37, 89, 92, 34, 19, 40, 81, 55] |\n",
      "|13    |[93, 29, 58, 53, 74, 89, 18, 81, 88, 41]|\n",
      "+------+----------------------------------------+\n",
      "only showing top 10 rows\n",
      "\n"
     ]
    }
   ],
   "source": [
    "userRecsOnlyItemId.show(10, False)"
   ]
  },
  {
   "cell_type": "code",
   "execution_count": 16,
   "metadata": {},
   "outputs": [],
   "source": [
    "userRecs.select(userRecs[\"userId\"], \\\n",
    "                userRecs[\"recommendations\"][\"movieId\"].alias(\"movieId\"),\\\n",
    "userRecs[\"recommendations\"][\"rating\"].cast('array<double>').alias(\"rating\")).\\\n",
    "    write.format(\"mongodb\").mode(\"append\").save()"
   ]
  },
  {
   "cell_type": "markdown",
   "metadata": {
    "colab_type": "text",
    "id": "IyBYPjjRkTME"
   },
   "source": [
    "## Agora faça 50 recomendacoes para todos os usuarios"
   ]
  },
  {
   "cell_type": "code",
   "execution_count": null,
   "metadata": {
    "colab": {},
    "colab_type": "code",
    "id": "FxLJxmkOkTMF"
   },
   "outputs": [],
   "source": []
  },
  {
   "cell_type": "code",
   "execution_count": null,
   "metadata": {
    "colab": {},
    "colab_type": "code",
    "id": "HCyunpBSkTMJ"
   },
   "outputs": [],
   "source": []
  },
  {
   "cell_type": "markdown",
   "metadata": {
    "colab_type": "text",
    "id": "wBBO4iwYkTML"
   },
   "source": [
    "## Recomende 50 usuarios para os itens"
   ]
  },
  {
   "cell_type": "code",
   "execution_count": null,
   "metadata": {
    "colab": {},
    "colab_type": "code",
    "id": "fhpJRWfNkTML"
   },
   "outputs": [],
   "source": []
  },
  {
   "cell_type": "code",
   "execution_count": null,
   "metadata": {
    "colab": {},
    "colab_type": "code",
    "id": "PVGBsgqWkTMN"
   },
   "outputs": [],
   "source": []
  },
  {
   "cell_type": "markdown",
   "metadata": {
    "colab_type": "text",
    "id": "LW23FVgOkTMP"
   },
   "source": [
    "## Como poderiamos armazenar as recomendacoes no MongoDB?"
   ]
  },
  {
   "cell_type": "code",
   "execution_count": null,
   "metadata": {
    "colab": {},
    "colab_type": "code",
    "id": "Sog1q4yrkTMP"
   },
   "outputs": [],
   "source": []
  },
  {
   "cell_type": "markdown",
   "metadata": {
    "colab_type": "text",
    "id": "iruOuVE4kTMR"
   },
   "source": [
    "## Como podemos fazer isso em Python?"
   ]
  },
  {
   "cell_type": "code",
   "execution_count": null,
   "metadata": {
    "colab": {},
    "colab_type": "code",
    "id": "nPKAICGWkTMS"
   },
   "outputs": [],
   "source": []
  },
  {
   "cell_type": "markdown",
   "metadata": {
    "colab_type": "text",
    "id": "zaNmQtRlkTMU"
   },
   "source": [
    "## Podemos utilizar outros datasets de teste, em especifico do proprio MovieLenz? Pesquise sobre esses datasets e sua estrutura basica."
   ]
  },
  {
   "cell_type": "code",
   "execution_count": null,
   "metadata": {
    "colab": {},
    "colab_type": "code",
    "id": "GKqfxqpJkTMV"
   },
   "outputs": [],
   "source": []
  },
  {
   "cell_type": "markdown",
   "metadata": {
    "colab_type": "text",
    "id": "QeARAS4WkTMW"
   },
   "source": [
    "## Amazene os dados no MongoDB, criem consultas para obter as recomendações para os usuários de ID 6 e 20."
   ]
  },
  {
   "cell_type": "code",
   "execution_count": null,
   "metadata": {
    "colab": {},
    "colab_type": "code",
    "id": "5wihW2KWkTMX"
   },
   "outputs": [],
   "source": []
  }
 ],
 "metadata": {
  "colab": {
   "name": "ExemploALS.ipynb",
   "provenance": [],
   "version": "0.3.2"
  },
  "kernelspec": {
   "display_name": "Python 3 (ipykernel)",
   "language": "python",
   "name": "python3"
  },
  "language_info": {
   "codemirror_mode": {
    "name": "ipython",
    "version": 3
   },
   "file_extension": ".py",
   "mimetype": "text/x-python",
   "name": "python",
   "nbconvert_exporter": "python",
   "pygments_lexer": "ipython3",
   "version": "3.11.6"
  }
 },
 "nbformat": 4,
 "nbformat_minor": 4
}
